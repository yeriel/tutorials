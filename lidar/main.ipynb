{
 "cells": [
  {
   "cell_type": "code",
   "execution_count": 1,
   "id": "2b1296f0",
   "metadata": {},
   "outputs": [
    {
     "data": {
      "application/vnd.jupyter.widget-view+json": {
       "model_id": "5e55f2ddafec421ea6b5a62d3cd24920",
       "version_major": 2,
       "version_minor": 0
      },
      "text/plain": [
       "Widget(value='<iframe src=\"http://localhost:39503/index.html?ui=P_0x76a42c63f860_0&reconnect=auto\" class=\"pyvi…"
      ]
     },
     "metadata": {},
     "output_type": "display_data"
    }
   ],
   "source": [
    "import laspy\n",
    "import numpy as np\n",
    "import pyvista as pv\n",
    "from sklearn.cluster import DBSCAN\n",
    "from sklearn.decomposition import PCA\n",
    "\n",
    "# 1. Cargar y preprocesar datos\n",
    "las = laspy.read(\"cloudpoint_5mm.las\")\n",
    "rng = np.random.default_rng(seed=42)\n",
    "mask = rng.random(len(las.points)) < 0.05\n",
    "subsampled = las.points[mask]\n",
    "\n",
    "# Conversión a coordenadas reales\n",
    "header = las.header\n",
    "scale = header.scales\n",
    "offset = header.offsets\n",
    "xyz = np.vstack((subsampled.X*scale[0]+offset[0],\n",
    "                 subsampled.Y*scale[1]+offset[1],\n",
    "                 subsampled.Z*scale[2]+offset[2])).T\n",
    "\n",
    "# 2. Filtrar por intensidad < 24600\n",
    "intensity_mask = las.intensity[mask] < 24600  # Máscara de intensidad\n",
    "\n",
    "# 3. Calcular min_z usando solo puntos de baja intensidad\n",
    "min_z = np.min(xyz[intensity_mask, 2])  # min_z basado en puntos filtrados\n",
    "lower_bound = min_z + 9\n",
    "\n",
    "# 4. Combinar filtros de intensidad y altura\n",
    "z_mask = (xyz[:, 2] > lower_bound)\n",
    "combined_mask = intensity_mask & z_mask  # Puntos que cumplen ambos criterios\n",
    "high_points = xyz[combined_mask]\n",
    "\n",
    "# 5. Clustering con DBSCAN\n",
    "db = DBSCAN(eps=0.5, min_samples=10).fit(high_points)\n",
    "labels = db.labels_\n",
    "\n",
    "# 6. Identificar clusters lineales usando PCA (con validación de tamaño)\n",
    "cable_clusters_indices = []\n",
    "for cluster_id in np.unique(labels):\n",
    "    if cluster_id == -1:\n",
    "        continue\n",
    "    \n",
    "    cluster_points = high_points[labels == cluster_id]\n",
    "    \n",
    "    # Validar tamaño del cluster antes de PCA\n",
    "    if len(cluster_points) < 3:\n",
    "        continue  # Saltar clusters con menos de 3 puntos\n",
    "    \n",
    "    pca = PCA(n_components=3)\n",
    "    pca.fit(cluster_points)\n",
    "    \n",
    "    if pca.explained_variance_ratio_[0] > 0.85:\n",
    "        cluster_indices = np.where(labels == cluster_id)[0]\n",
    "        cable_clusters_indices.extend(cluster_indices)\n",
    "\n",
    "# 7. Crear máscara de cables\n",
    "cable_mask = np.zeros(xyz.shape[0], dtype=bool)\n",
    "if cable_clusters_indices:\n",
    "    high_points_indices = np.where(combined_mask)[0]\n",
    "    cable_indices_in_xyz = high_points_indices[cable_clusters_indices]\n",
    "    cable_mask[cable_indices_in_xyz] = True\n",
    "\n",
    "# 8. Asignación de colores\n",
    "colors = np.zeros((xyz.shape[0], 3), dtype=np.uint8)\n",
    "colors[cable_mask] = [255, 0, 0]               # Rojo: cables\n",
    "colors[combined_mask & ~cable_mask] = [128, 128, 128]  # Gris\n",
    "colors[~combined_mask] = [128, 128, 128]       # Gris: resto\n",
    "\n",
    "# 9. Visualización\n",
    "cloud = pv.PolyData(xyz)\n",
    "cloud['colors'] = colors\n",
    "\n",
    "plotter = pv.Plotter()\n",
    "plotter.add_mesh(cloud, rgb=True, style='points', point_size=2)\n",
    "plotter.show()"
   ]
  }
 ],
 "metadata": {
  "kernelspec": {
   "display_name": "env",
   "language": "python",
   "name": "python3"
  },
  "language_info": {
   "codemirror_mode": {
    "name": "ipython",
    "version": 3
   },
   "file_extension": ".py",
   "mimetype": "text/x-python",
   "name": "python",
   "nbconvert_exporter": "python",
   "pygments_lexer": "ipython3",
   "version": "3.12.3"
  }
 },
 "nbformat": 4,
 "nbformat_minor": 5
}
